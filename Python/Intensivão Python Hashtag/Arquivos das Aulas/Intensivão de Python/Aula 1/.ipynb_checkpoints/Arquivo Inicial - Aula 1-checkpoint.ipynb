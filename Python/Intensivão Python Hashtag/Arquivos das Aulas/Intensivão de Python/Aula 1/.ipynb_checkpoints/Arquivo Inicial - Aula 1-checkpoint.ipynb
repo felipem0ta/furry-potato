{
 "cells": [
  {
   "cell_type": "markdown",
   "metadata": {},
   "source": [
    "# Automação de Sistemas e Processos com Python\n",
    "\n",
    "### Desafio:\n",
    "\n",
    "Todos os dias, o nosso sistema atualiza as vendas do dia anterior.\n",
    "O seu trabalho diário, como analista, é enviar um e-mail para a diretoria, assim que começar a trabalhar, com o faturamento e a quantidade de produtos vendidos no dia anterior\n",
    "\n",
    "E-mail da diretoria: seugmail+diretoria@gmail.com<br>\n",
    "Local onde o sistema disponibiliza as vendas do dia anterior: https://drive.google.com/drive/folders/149xknr9JvrlEnhNWO49zPcw0PW5icxga?usp=sharing\n",
    "\n",
    "Para resolver isso, vamos usar o pyautogui, uma biblioteca de automação de comandos do mouse e do teclado"
   ]
  },
  {
   "cell_type": "code",
   "execution_count": 1,
   "metadata": {},
   "outputs": [
    {
     "name": "stdout",
     "output_type": "stream",
     "text": [
      "Defaulting to user installation because normal site-packages is not writeable\n",
      "Collecting pyautogui\n",
      "  Downloading PyAutoGUI-0.9.53.tar.gz (59 kB)\n",
      "\u001b[2K     \u001b[38;2;114;156;31m━━━━━━━━━━━━━━━━━━━━━━━━━━━━━━━━━━━━━━━\u001b[0m \u001b[32m59.0/59.0 kB\u001b[0m \u001b[31m945.0 kB/s\u001b[0m eta \u001b[36m0:00:00\u001b[0m31m1.5 MB/s\u001b[0m eta \u001b[36m0:00:01\u001b[0m\n",
      "\u001b[?25h  Preparing metadata (setup.py) ... \u001b[?25ldone\n",
      "\u001b[?25hCollecting pymsgbox\n",
      "  Downloading PyMsgBox-1.0.9.tar.gz (18 kB)\n",
      "  Installing build dependencies ... \u001b[?25ldone\n",
      "\u001b[?25h  Getting requirements to build wheel ... \u001b[?25ldone\n",
      "\u001b[?25h  Preparing metadata (pyproject.toml) ... \u001b[?25ldone\n",
      "\u001b[?25hCollecting PyTweening>=1.0.1\n",
      "  Downloading pytweening-1.0.4.tar.gz (14 kB)\n",
      "  Preparing metadata (setup.py) ... \u001b[?25ldone\n",
      "\u001b[?25hCollecting pyscreeze>=0.1.21\n",
      "  Downloading PyScreeze-0.1.28.tar.gz (25 kB)\n",
      "  Installing build dependencies ... \u001b[?25ldone\n",
      "\u001b[?25h  Getting requirements to build wheel ... \u001b[?25ldone\n",
      "\u001b[?25h  Preparing metadata (pyproject.toml) ... \u001b[?25ldone\n",
      "\u001b[?25hCollecting pygetwindow>=0.0.5\n",
      "  Downloading PyGetWindow-0.0.9.tar.gz (9.7 kB)\n",
      "  Preparing metadata (setup.py) ... \u001b[?25ldone\n",
      "\u001b[?25hCollecting mouseinfo\n",
      "  Downloading MouseInfo-0.1.3.tar.gz (10 kB)\n",
      "  Preparing metadata (setup.py) ... \u001b[?25ldone\n",
      "\u001b[?25hCollecting python3-Xlib\n",
      "  Downloading python3-xlib-0.15.tar.gz (132 kB)\n",
      "\u001b[2K     \u001b[38;2;114;156;31m━━━━━━━━━━━━━━━━━━━━━━━━━━━━━━━━━━━━━━━\u001b[0m \u001b[32m132.8/132.8 kB\u001b[0m \u001b[31m2.4 MB/s\u001b[0m eta \u001b[36m0:00:00\u001b[0m[31m4.0 MB/s\u001b[0m eta \u001b[36m0:00:01\u001b[0m\n",
      "\u001b[?25h  Preparing metadata (setup.py) ... \u001b[?25ldone\n",
      "\u001b[?25hCollecting pyrect\n",
      "  Downloading PyRect-0.2.0.tar.gz (17 kB)\n",
      "  Preparing metadata (setup.py) ... \u001b[?25ldone\n",
      "\u001b[?25hCollecting pyperclip\n",
      "  Downloading pyperclip-1.8.2.tar.gz (20 kB)\n",
      "  Preparing metadata (setup.py) ... \u001b[?25ldone\n",
      "\u001b[?25hBuilding wheels for collected packages: pyautogui, pygetwindow, pyscreeze, PyTweening, mouseinfo, pymsgbox, python3-Xlib, pyperclip, pyrect\n",
      "  Building wheel for pyautogui (setup.py) ... \u001b[?25ldone\n",
      "\u001b[?25h  Created wheel for pyautogui: filename=PyAutoGUI-0.9.53-py3-none-any.whl size=36614 sha256=82ec11bf83ae0fdc291d8fa9b470514494b3fdb3427576c70074082949eabd56\n",
      "  Stored in directory: /home/felipe/.cache/pip/wheels/00/4e/de/0f11ae7571af9af4e5a9e8fa4a8ad2ad5cb6bc07ef57d843de\n",
      "  Building wheel for pygetwindow (setup.py) ... \u001b[?25ldone\n",
      "\u001b[?25h  Created wheel for pygetwindow: filename=PyGetWindow-0.0.9-py3-none-any.whl size=11081 sha256=e7aefba77e197f3c327c618f62cff79cf427dc28933a3706f1403234719fdb13\n",
      "  Stored in directory: /home/felipe/.cache/pip/wheels/02/f6/64/c5d427819f80553df2398bfecc351e94e00371c1dcb6edb24e\n",
      "  Building wheel for pyscreeze (pyproject.toml) ... \u001b[?25ldone\n",
      "\u001b[?25h  Created wheel for pyscreeze: filename=PyScreeze-0.1.28-py3-none-any.whl size=13009 sha256=83d1bb9cd41fa9d0560f8317be6237fa06ae1e57c3cd65791a99b0b0dc862033\n",
      "  Stored in directory: /home/felipe/.cache/pip/wheels/03/86/12/abd9680f6f63999ec0433afdbca9d26201eae26247bbbfb3a8\n",
      "  Building wheel for PyTweening (setup.py) ... \u001b[?25ldone\n",
      "\u001b[?25h  Created wheel for PyTweening: filename=pytweening-1.0.4-py3-none-any.whl size=5854 sha256=3a4310caaf26004582088328e0a613f5b42b825c23be878a33e5af6932e9856b\n",
      "  Stored in directory: /home/felipe/.cache/pip/wheels/a3/b3/f3/4d5fc1d62561de7a0250a842bbe3ed6e7240ce937e8e85ad1d\n",
      "  Building wheel for mouseinfo (setup.py) ... \u001b[?25ldone\n",
      "\u001b[?25h  Created wheel for mouseinfo: filename=MouseInfo-0.1.3-py3-none-any.whl size=10906 sha256=cc024b8ac4264d5dc0fbc1fee06acd21ae0ae23330ac52a77d1897edab1a0344\n",
      "  Stored in directory: /home/felipe/.cache/pip/wheels/6e/d5/27/2f1be84b3e6ccee99c82f50e3fe7fe6360dd30417109b49a72\n",
      "  Building wheel for pymsgbox (pyproject.toml) ... \u001b[?25ldone\n",
      "\u001b[?25h  Created wheel for pymsgbox: filename=PyMsgBox-1.0.9-py3-none-any.whl size=7406 sha256=dadcded47e1342ad179471a42d42c96e30df9a3cde0e759441769e819d149327\n",
      "  Stored in directory: /home/felipe/.cache/pip/wheels/b9/6a/ba/be2d7d78166ec8018c21d07241dffa54446c09652a267759ae\n",
      "  Building wheel for python3-Xlib (setup.py) ... \u001b[?25ldone\n",
      "\u001b[?25h  Created wheel for python3-Xlib: filename=python3_xlib-0.15-py3-none-any.whl size=109517 sha256=4675fcbd4b95fda3a778cfe27a551f68c222099ee0e9cfb38ee99c06613d67c2\n",
      "  Stored in directory: /home/felipe/.cache/pip/wheels/9c/8e/c5/8a93a3415a4a2065f31750a3244db61482b9e508f04ee56e82\n",
      "  Building wheel for pyperclip (setup.py) ... \u001b[?25ldone\n",
      "\u001b[?25h  Created wheel for pyperclip: filename=pyperclip-1.8.2-py3-none-any.whl size=11137 sha256=a2578f4a13f577aad33cf6ff3c3bc8352c4b1d6ad7def5770251959ac793a6c9\n",
      "  Stored in directory: /home/felipe/.cache/pip/wheels/04/24/fe/140a94a7f1036003ede94579e6b4227fe96c840c6f4dcbe307\n",
      "  Building wheel for pyrect (setup.py) ... \u001b[?25ldone\n",
      "\u001b[?25h  Created wheel for pyrect: filename=PyRect-0.2.0-py2.py3-none-any.whl size=11196 sha256=fbe5050f2bf2e65dac33e33a8e92284d6a90da61957309438bc5c81dd6563681\n",
      "  Stored in directory: /home/felipe/.cache/pip/wheels/d5/4c/bd/42e4e23641afcd185d4e932784da37e6e04505da0cf3f7b832\n",
      "Successfully built pyautogui pygetwindow pyscreeze PyTweening mouseinfo pymsgbox python3-Xlib pyperclip pyrect\n",
      "Installing collected packages: PyTweening, python3-Xlib, pyscreeze, pyrect, pyperclip, pymsgbox, pygetwindow, mouseinfo, pyautogui\n",
      "Successfully installed PyTweening-1.0.4 mouseinfo-0.1.3 pyautogui-0.9.53 pygetwindow-0.0.9 pymsgbox-1.0.9 pyperclip-1.8.2 pyrect-0.2.0 pyscreeze-0.1.28 python3-Xlib-0.15\n"
     ]
    }
   ],
   "source": [
    "!pip install pyautogui"
   ]
  },
  {
   "cell_type": "markdown",
   "metadata": {},
   "source": [
    "### Vamos agora ler o arquivo baixado para pegar os indicadores\n",
    "\n",
    "- Faturamento\n",
    "- Quantidade de Produtos"
   ]
  },
  {
   "cell_type": "code",
   "execution_count": 3,
   "metadata": {},
   "outputs": [
    {
     "ename": "NameError",
     "evalue": "name 'pyau' is not defined",
     "output_type": "error",
     "traceback": [
      "\u001b[0;31m---------------------------------------------------------------------------\u001b[0m",
      "\u001b[0;31mNameError\u001b[0m                                 Traceback (most recent call last)",
      "Input \u001b[0;32mIn [3]\u001b[0m, in \u001b[0;36m<cell line: 1>\u001b[0;34m()\u001b[0m\n\u001b[0;32m----> 1\u001b[0m \u001b[43mpyau\u001b[49m\n",
      "\u001b[0;31mNameError\u001b[0m: name 'pyau' is not defined"
     ]
    }
   ],
   "source": [
    "pyautogui.hotkey(\"ctrl\")"
   ]
  },
  {
   "cell_type": "code",
   "execution_count": null,
   "metadata": {},
   "outputs": [],
   "source": []
  },
  {
   "cell_type": "markdown",
   "metadata": {},
   "source": [
    "### Vamos agora enviar um e-mail pelo gmail"
   ]
  },
  {
   "cell_type": "code",
   "execution_count": null,
   "metadata": {},
   "outputs": [],
   "source": []
  },
  {
   "cell_type": "markdown",
   "metadata": {},
   "source": [
    "#### Use esse código para descobrir qual a posição de um item que queira clicar\n",
    "\n",
    "- Lembre-se: a posição na sua tela é diferente da posição na minha tela"
   ]
  },
  {
   "cell_type": "code",
   "execution_count": null,
   "metadata": {},
   "outputs": [],
   "source": []
  }
 ],
 "metadata": {
  "kernelspec": {
   "display_name": "Python 3 (ipykernel)",
   "language": "python",
   "name": "python3"
  },
  "language_info": {
   "codemirror_mode": {
    "name": "ipython",
    "version": 3
   },
   "file_extension": ".py",
   "mimetype": "text/x-python",
   "name": "python",
   "nbconvert_exporter": "python",
   "pygments_lexer": "ipython3",
   "version": "3.10.5"
  }
 },
 "nbformat": 4,
 "nbformat_minor": 4
}
